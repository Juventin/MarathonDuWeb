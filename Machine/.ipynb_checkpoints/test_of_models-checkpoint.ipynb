{
 "cells": [
  {
   "cell_type": "markdown",
   "metadata": {},
   "source": [
    "# IMPORTS"
   ]
  },
  {
   "cell_type": "code",
   "execution_count": 427,
   "metadata": {},
   "outputs": [],
   "source": [
    "import pandas as pd\n",
    "import time \n",
    "import datetime\n",
    "from sklearn import preprocessing\n",
    "from sklearn.model_selection import train_test_split, GridSearchCV, RandomizedSearchCV\n",
    "from sklearn.ensemble import RandomForestClassifier, GradientBoostingRegressor\n",
    "from sklearn.ensemble import RandomForestRegressor\n",
    "import xgboost as xgb\n",
    "from keras.models import Sequential\n",
    "from keras.layers import Dense\n",
    "import numpy as np\n",
    "from sklearn.metrics import precision_score, recall_score\n",
    "from sklearn.metrics import accuracy_score\n",
    "from sklearn.datasets import make_regression\n",
    "from sklearn.linear_model import LogisticRegression"
   ]
  },
  {
   "cell_type": "markdown",
   "metadata": {},
   "source": [
    "# VISUALIZATION OF DATA"
   ]
  },
  {
   "cell_type": "code",
   "execution_count": 428,
   "metadata": {},
   "outputs": [
    {
     "name": "stdout",
     "output_type": "stream",
     "text": [
      "(71, 27)\n"
     ]
    },
    {
     "data": {
      "text/html": [
       "<div>\n",
       "<style scoped>\n",
       "    .dataframe tbody tr th:only-of-type {\n",
       "        vertical-align: middle;\n",
       "    }\n",
       "\n",
       "    .dataframe tbody tr th {\n",
       "        vertical-align: top;\n",
       "    }\n",
       "\n",
       "    .dataframe thead th {\n",
       "        text-align: right;\n",
       "    }\n",
       "</style>\n",
       "<table border=\"1\" class=\"dataframe\">\n",
       "  <thead>\n",
       "    <tr style=\"text-align: right;\">\n",
       "      <th></th>\n",
       "      <th>Campaign Name</th>\n",
       "      <th>Office</th>\n",
       "      <th>Start Date</th>\n",
       "      <th>End Date</th>\n",
       "      <th>date_dif</th>\n",
       "      <th>Status</th>\n",
       "      <th>Price Model</th>\n",
       "      <th>Goal budget</th>\n",
       "      <th>Volume booked</th>\n",
       "      <th>Price</th>\n",
       "      <th>...</th>\n",
       "      <th>Budget Spent</th>\n",
       "      <th>Mediacost</th>\n",
       "      <th>Margin</th>\n",
       "      <th>Volume delivered</th>\n",
       "      <th>Achievement</th>\n",
       "      <th>Time</th>\n",
       "      <th>Trend</th>\n",
       "      <th>Rem. Volume</th>\n",
       "      <th>Rem. Day</th>\n",
       "      <th>Rem. Volume / day</th>\n",
       "    </tr>\n",
       "  </thead>\n",
       "  <tbody>\n",
       "    <tr>\n",
       "      <th>3</th>\n",
       "      <td>Campaign 4</td>\n",
       "      <td>FR</td>\n",
       "      <td>13/01/2020</td>\n",
       "      <td>20/01/2020</td>\n",
       "      <td>7</td>\n",
       "      <td>Ended</td>\n",
       "      <td>CPM</td>\n",
       "      <td>1322.09</td>\n",
       "      <td>165261.25</td>\n",
       "      <td>8.0</td>\n",
       "      <td>...</td>\n",
       "      <td>1 322.09€</td>\n",
       "      <td>257.57 €</td>\n",
       "      <td>1 064.52€</td>\n",
       "      <td>165307.0</td>\n",
       "      <td>100.03%</td>\n",
       "      <td>100.00%</td>\n",
       "      <td>100%</td>\n",
       "      <td>-46.0</td>\n",
       "      <td>0.0</td>\n",
       "      <td>0.0</td>\n",
       "    </tr>\n",
       "    <tr>\n",
       "      <th>14</th>\n",
       "      <td>Campaign 16</td>\n",
       "      <td>DE</td>\n",
       "      <td>07/01/2020</td>\n",
       "      <td>15/01/2020</td>\n",
       "      <td>8</td>\n",
       "      <td>Ended</td>\n",
       "      <td>CPM</td>\n",
       "      <td>15803.34</td>\n",
       "      <td>1128850.00</td>\n",
       "      <td>14.0</td>\n",
       "      <td>...</td>\n",
       "      <td>15 803.34€</td>\n",
       "      <td>9 442.88 €</td>\n",
       "      <td>6 360.46€</td>\n",
       "      <td>1170477.0</td>\n",
       "      <td>103.69%</td>\n",
       "      <td>100.00%</td>\n",
       "      <td>104%</td>\n",
       "      <td>-41627.0</td>\n",
       "      <td>0.0</td>\n",
       "      <td>0.0</td>\n",
       "    </tr>\n",
       "    <tr>\n",
       "      <th>15</th>\n",
       "      <td>Campaign 17</td>\n",
       "      <td>FR Inter</td>\n",
       "      <td>23/01/2020</td>\n",
       "      <td>23/03/2020</td>\n",
       "      <td>60</td>\n",
       "      <td>Ended</td>\n",
       "      <td>CPM</td>\n",
       "      <td>10000.00</td>\n",
       "      <td>1428571.00</td>\n",
       "      <td>7.0</td>\n",
       "      <td>...</td>\n",
       "      <td>9 998.00€</td>\n",
       "      <td>1 747.15 €</td>\n",
       "      <td>8 250.85€</td>\n",
       "      <td>1428286.0</td>\n",
       "      <td>99.98%</td>\n",
       "      <td>100.00%</td>\n",
       "      <td>100%</td>\n",
       "      <td>285.0</td>\n",
       "      <td>0.0</td>\n",
       "      <td>285.0</td>\n",
       "    </tr>\n",
       "    <tr>\n",
       "      <th>16</th>\n",
       "      <td>Campaign 18</td>\n",
       "      <td>DE</td>\n",
       "      <td>24/01/2020</td>\n",
       "      <td>08/02/2020</td>\n",
       "      <td>15</td>\n",
       "      <td>Ended</td>\n",
       "      <td>CPM</td>\n",
       "      <td>4699.06</td>\n",
       "      <td>551784.00</td>\n",
       "      <td>9.0</td>\n",
       "      <td>...</td>\n",
       "      <td>4 699.06€</td>\n",
       "      <td>548.78 €</td>\n",
       "      <td>4 150.28€</td>\n",
       "      <td>623154.0</td>\n",
       "      <td>112.93%</td>\n",
       "      <td>100.00%</td>\n",
       "      <td>113%</td>\n",
       "      <td>-71370.0</td>\n",
       "      <td>0.0</td>\n",
       "      <td>0.0</td>\n",
       "    </tr>\n",
       "    <tr>\n",
       "      <th>17</th>\n",
       "      <td>Campaign 19</td>\n",
       "      <td>FR</td>\n",
       "      <td>02/01/2020</td>\n",
       "      <td>19/01/2020</td>\n",
       "      <td>17</td>\n",
       "      <td>Ended</td>\n",
       "      <td>CPM</td>\n",
       "      <td>20825.00</td>\n",
       "      <td>1735417.00</td>\n",
       "      <td>12.0</td>\n",
       "      <td>...</td>\n",
       "      <td>20 825.00€</td>\n",
       "      <td>412.80 €</td>\n",
       "      <td>20 412.20€</td>\n",
       "      <td>1736210.0</td>\n",
       "      <td>100.05%</td>\n",
       "      <td>100.00%</td>\n",
       "      <td>100%</td>\n",
       "      <td>-793.0</td>\n",
       "      <td>0.0</td>\n",
       "      <td>0.0</td>\n",
       "    </tr>\n",
       "  </tbody>\n",
       "</table>\n",
       "<p>5 rows × 27 columns</p>\n",
       "</div>"
      ],
      "text/plain": [
       "   Campaign Name    Office  Start Date    End Date  date_dif Status  \\\n",
       "3     Campaign 4        FR  13/01/2020  20/01/2020         7  Ended   \n",
       "14   Campaign 16        DE  07/01/2020  15/01/2020         8  Ended   \n",
       "15   Campaign 17  FR Inter  23/01/2020  23/03/2020        60  Ended   \n",
       "16   Campaign 18        DE  24/01/2020  08/02/2020        15  Ended   \n",
       "17   Campaign 19        FR  02/01/2020  19/01/2020        17  Ended   \n",
       "\n",
       "   Price Model  Goal budget  Volume booked  Price  ... Budget Spent  \\\n",
       "3          CPM      1322.09      165261.25    8.0  ...    1 322.09€   \n",
       "14         CPM     15803.34     1128850.00   14.0  ...   15 803.34€   \n",
       "15         CPM     10000.00     1428571.00    7.0  ...    9 998.00€   \n",
       "16         CPM      4699.06      551784.00    9.0  ...    4 699.06€   \n",
       "17         CPM     20825.00     1735417.00   12.0  ...   20 825.00€   \n",
       "\n",
       "     Mediacost      Margin  Volume delivered  Achievement     Time Trend  \\\n",
       "3     257.57 €   1 064.52€          165307.0      100.03%  100.00%  100%   \n",
       "14  9 442.88 €   6 360.46€         1170477.0      103.69%  100.00%  104%   \n",
       "15  1 747.15 €   8 250.85€         1428286.0       99.98%  100.00%  100%   \n",
       "16    548.78 €   4 150.28€          623154.0      112.93%  100.00%  113%   \n",
       "17    412.80 €  20 412.20€         1736210.0      100.05%  100.00%  100%   \n",
       "\n",
       "   Rem. Volume Rem. Day Rem. Volume / day  \n",
       "3        -46.0      0.0               0.0  \n",
       "14    -41627.0      0.0               0.0  \n",
       "15       285.0      0.0             285.0  \n",
       "16    -71370.0      0.0               0.0  \n",
       "17      -793.0      0.0               0.0  \n",
       "\n",
       "[5 rows x 27 columns]"
      ]
     },
     "execution_count": 428,
     "metadata": {},
     "output_type": "execute_result"
    }
   ],
   "source": [
    "data  = pd.read_csv(\"data_mdw.csv\")\n",
    "data = data.loc[data[\"Price Model\"] == \"CPM\"]\n",
    "print(data.shape)\n",
    "data.head()"
   ]
  },
  {
   "cell_type": "markdown",
   "metadata": {},
   "source": [
    "# DATA CLEANING"
   ]
  },
  {
   "cell_type": "markdown",
   "metadata": {},
   "source": [
    "## explicatives variables"
   ]
  },
  {
   "cell_type": "code",
   "execution_count": 429,
   "metadata": {},
   "outputs": [
    {
     "name": "stdout",
     "output_type": "stream",
     "text": [
      "(71, 4)\n"
     ]
    },
    {
     "data": {
      "text/html": [
       "<div>\n",
       "<style scoped>\n",
       "    .dataframe tbody tr th:only-of-type {\n",
       "        vertical-align: middle;\n",
       "    }\n",
       "\n",
       "    .dataframe tbody tr th {\n",
       "        vertical-align: top;\n",
       "    }\n",
       "\n",
       "    .dataframe thead th {\n",
       "        text-align: right;\n",
       "    }\n",
       "</style>\n",
       "<table border=\"1\" class=\"dataframe\">\n",
       "  <thead>\n",
       "    <tr style=\"text-align: right;\">\n",
       "      <th></th>\n",
       "      <th>date_dif</th>\n",
       "      <th>Goal budget</th>\n",
       "      <th>Volume booked</th>\n",
       "      <th>Price</th>\n",
       "    </tr>\n",
       "  </thead>\n",
       "  <tbody>\n",
       "    <tr>\n",
       "      <th>3</th>\n",
       "      <td>7</td>\n",
       "      <td>1322.09</td>\n",
       "      <td>165261.25</td>\n",
       "      <td>8.0</td>\n",
       "    </tr>\n",
       "    <tr>\n",
       "      <th>14</th>\n",
       "      <td>8</td>\n",
       "      <td>15803.34</td>\n",
       "      <td>1128850.00</td>\n",
       "      <td>14.0</td>\n",
       "    </tr>\n",
       "    <tr>\n",
       "      <th>15</th>\n",
       "      <td>60</td>\n",
       "      <td>10000.00</td>\n",
       "      <td>1428571.00</td>\n",
       "      <td>7.0</td>\n",
       "    </tr>\n",
       "    <tr>\n",
       "      <th>16</th>\n",
       "      <td>15</td>\n",
       "      <td>4699.06</td>\n",
       "      <td>551784.00</td>\n",
       "      <td>9.0</td>\n",
       "    </tr>\n",
       "    <tr>\n",
       "      <th>17</th>\n",
       "      <td>17</td>\n",
       "      <td>20825.00</td>\n",
       "      <td>1735417.00</td>\n",
       "      <td>12.0</td>\n",
       "    </tr>\n",
       "  </tbody>\n",
       "</table>\n",
       "</div>"
      ],
      "text/plain": [
       "    date_dif  Goal budget  Volume booked  Price\n",
       "3          7      1322.09      165261.25    8.0\n",
       "14         8     15803.34     1128850.00   14.0\n",
       "15        60     10000.00     1428571.00    7.0\n",
       "16        15      4699.06      551784.00    9.0\n",
       "17        17     20825.00     1735417.00   12.0"
      ]
     },
     "execution_count": 429,
     "metadata": {},
     "output_type": "execute_result"
    }
   ],
   "source": [
    "data_X = data.iloc[:, 4:10]\n",
    "data_X = data_X.drop(columns = [\"Status\", \"Price Model\"])\n",
    "print(data_X.shape)\n",
    "data_X.head()"
   ]
  },
  {
   "cell_type": "code",
   "execution_count": 430,
   "metadata": {
    "scrolled": true
   },
   "outputs": [
    {
     "name": "stdout",
     "output_type": "stream",
     "text": [
      "(71, 4)\n"
     ]
    },
    {
     "data": {
      "text/html": [
       "<div>\n",
       "<style scoped>\n",
       "    .dataframe tbody tr th:only-of-type {\n",
       "        vertical-align: middle;\n",
       "    }\n",
       "\n",
       "    .dataframe tbody tr th {\n",
       "        vertical-align: top;\n",
       "    }\n",
       "\n",
       "    .dataframe thead th {\n",
       "        text-align: right;\n",
       "    }\n",
       "</style>\n",
       "<table border=\"1\" class=\"dataframe\">\n",
       "  <thead>\n",
       "    <tr style=\"text-align: right;\">\n",
       "      <th></th>\n",
       "      <th>date_dif</th>\n",
       "      <th>Goal budget</th>\n",
       "      <th>Volume booked</th>\n",
       "      <th>Price</th>\n",
       "    </tr>\n",
       "  </thead>\n",
       "  <tbody>\n",
       "    <tr>\n",
       "      <th>3</th>\n",
       "      <td>7</td>\n",
       "      <td>1322.09</td>\n",
       "      <td>165261.25</td>\n",
       "      <td>8.0</td>\n",
       "    </tr>\n",
       "    <tr>\n",
       "      <th>14</th>\n",
       "      <td>8</td>\n",
       "      <td>15803.34</td>\n",
       "      <td>1128850.00</td>\n",
       "      <td>14.0</td>\n",
       "    </tr>\n",
       "    <tr>\n",
       "      <th>15</th>\n",
       "      <td>60</td>\n",
       "      <td>10000.00</td>\n",
       "      <td>1428571.00</td>\n",
       "      <td>7.0</td>\n",
       "    </tr>\n",
       "    <tr>\n",
       "      <th>16</th>\n",
       "      <td>15</td>\n",
       "      <td>4699.06</td>\n",
       "      <td>551784.00</td>\n",
       "      <td>9.0</td>\n",
       "    </tr>\n",
       "    <tr>\n",
       "      <th>17</th>\n",
       "      <td>17</td>\n",
       "      <td>20825.00</td>\n",
       "      <td>1735417.00</td>\n",
       "      <td>12.0</td>\n",
       "    </tr>\n",
       "  </tbody>\n",
       "</table>\n",
       "</div>"
      ],
      "text/plain": [
       "    date_dif  Goal budget  Volume booked  Price\n",
       "3          7      1322.09      165261.25    8.0\n",
       "14         8     15803.34     1128850.00   14.0\n",
       "15        60     10000.00     1428571.00    7.0\n",
       "16        15      4699.06      551784.00    9.0\n",
       "17        17     20825.00     1735417.00   12.0"
      ]
     },
     "execution_count": 430,
     "metadata": {},
     "output_type": "execute_result"
    }
   ],
   "source": [
    "#data_X = data_X.drop(columns=[\"Price Model\"])\n",
    "#data_X[\"All\"] = format_dummies[\"All\"]\n",
    "#data_X[\"Display\"] = format_dummies[\"Display\"]\n",
    "#data_X[\"Mix\"] = format_dummies[\"Mix\"]\n",
    "#data_X[\"Natif\"] = format_dummies[\"Natif\"]\n",
    "#data_X[\"Vidéo\"] = format_dummies[\"Vidéo\"]\n",
    "#data_X[\"CPC\"] = price_model_dummies[\"CPC\"]\n",
    "#data_X[\"CPM\"] = price_model_dummies[\"CPM\"]\n",
    "#data_X[\"CPV\"] = price_model_dummies[\"CPV\"]\n",
    "print(data_X.shape)\n",
    "data_X.head()"
   ]
  },
  {
   "cell_type": "markdown",
   "metadata": {},
   "source": [
    "## Variable to predict"
   ]
  },
  {
   "cell_type": "code",
   "execution_count": 431,
   "metadata": {
    "scrolled": true
   },
   "outputs": [
    {
     "name": "stdout",
     "output_type": "stream",
     "text": [
      "(71,)\n"
     ]
    },
    {
     "data": {
      "text/plain": [
       "3      1\n",
       "14     1\n",
       "15     0\n",
       "16     1\n",
       "17     1\n",
       "      ..\n",
       "105    0\n",
       "106    0\n",
       "107    0\n",
       "108    0\n",
       "109    0\n",
       "Name: Achievement, Length: 71, dtype: object"
      ]
     },
     "execution_count": 431,
     "metadata": {},
     "output_type": "execute_result"
    }
   ],
   "source": [
    "data[\"Impressions\"] = [int(number) for number in data[\"Impressions\"].values]\n",
    "data.loc[data['Volume booked'] <= data[\"Impressions\"], 'Achievement'] = 1\n",
    "data.loc[data['Volume booked'] > data[\"Impressions\"], 'Achievement'] = 0\n",
    "data_Y = data[\"Achievement\"]\n",
    "print(data_Y.shape)\n",
    "data_Y"
   ]
  },
  {
   "cell_type": "code",
   "execution_count": 432,
   "metadata": {},
   "outputs": [],
   "source": [
    "data_Y = data_Y.astype(int)"
   ]
  },
  {
   "cell_type": "markdown",
   "metadata": {},
   "source": [
    "## Normalisation"
   ]
  },
  {
   "cell_type": "code",
   "execution_count": 433,
   "metadata": {},
   "outputs": [],
   "source": [
    "min_max_scaler = preprocessing.MinMaxScaler()\n",
    "x_scaled = min_max_scaler.fit_transform(data_X.values)\n",
    "x_scaled = pd.DataFrame(x_scaled)"
   ]
  },
  {
   "cell_type": "markdown",
   "metadata": {},
   "source": [
    "## Train test split"
   ]
  },
  {
   "cell_type": "code",
   "execution_count": 434,
   "metadata": {},
   "outputs": [],
   "source": [
    "X_train, X_test, y_train, y_test = train_test_split(data_X, data_Y, random_state = 42)"
   ]
  },
  {
   "cell_type": "markdown",
   "metadata": {},
   "source": [
    "# FIRST : RANDOM FOREST CLASSIFIER"
   ]
  },
  {
   "cell_type": "code",
   "execution_count": 435,
   "metadata": {},
   "outputs": [
    {
     "name": "stdout",
     "output_type": "stream",
     "text": [
      "the accuracy is : 0.6111111111111112\n",
      "the feature importance is : [0.30656456 0.16496563 0.25994002 0.26852979]\n"
     ]
    }
   ],
   "source": [
    "clf = RandomForestClassifier(n_estimators=100, max_depth=2,\n",
    "                           random_state=0)\n",
    "clf.fit(X_train, y_train) \n",
    "\n",
    "print('the accuracy is :', clf.score(X_test, y_test))\n",
    "print('the feature importance is :',clf.feature_importances_)"
   ]
  },
  {
   "cell_type": "code",
   "execution_count": 436,
   "metadata": {},
   "outputs": [
    {
     "data": {
      "text/plain": [
       "array([0, 1, 0, 0, 1, 0, 1, 0, 1, 1, 0, 0, 0, 0, 1, 1, 1, 0])"
      ]
     },
     "execution_count": 436,
     "metadata": {},
     "output_type": "execute_result"
    }
   ],
   "source": [
    "clf.predict(X_test)"
   ]
  },
  {
   "cell_type": "markdown",
   "metadata": {},
   "source": [
    "# SECOND : SIMPLE NEURAL NETWORK"
   ]
  },
  {
   "cell_type": "code",
   "execution_count": 437,
   "metadata": {
    "scrolled": true
   },
   "outputs": [
    {
     "name": "stdout",
     "output_type": "stream",
     "text": [
      "Epoch 1/100\n",
      "53/53 [==============================] - 1s 27ms/step - loss: 7.6029 - acc: 0.5283\n",
      "Epoch 2/100\n",
      "53/53 [==============================] - 0s 301us/step - loss: 7.6029 - acc: 0.5283\n",
      "Epoch 3/100\n",
      "53/53 [==============================] - 0s 245us/step - loss: 7.6029 - acc: 0.5283\n",
      "Epoch 4/100\n",
      "53/53 [==============================] - 0s 263us/step - loss: 7.6029 - acc: 0.5283\n",
      "Epoch 5/100\n",
      "53/53 [==============================] - 0s 282us/step - loss: 7.6029 - acc: 0.5283\n",
      "Epoch 6/100\n",
      "53/53 [==============================] - 0s 263us/step - loss: 7.6029 - acc: 0.5283\n",
      "Epoch 7/100\n",
      "53/53 [==============================] - 0s 282us/step - loss: 7.6029 - acc: 0.5283\n",
      "Epoch 8/100\n",
      "53/53 [==============================] - 0s 263us/step - loss: 7.6029 - acc: 0.5283\n",
      "Epoch 9/100\n",
      "53/53 [==============================] - 0s 282us/step - loss: 7.6029 - acc: 0.5283\n",
      "Epoch 10/100\n",
      "53/53 [==============================] - 0s 282us/step - loss: 7.6029 - acc: 0.5283\n",
      "Epoch 11/100\n",
      "53/53 [==============================] - 0s 282us/step - loss: 7.6029 - acc: 0.5283\n",
      "Epoch 12/100\n",
      "53/53 [==============================] - 0s 273us/step - loss: 7.6029 - acc: 0.5283\n",
      "Epoch 13/100\n",
      "53/53 [==============================] - 0s 263us/step - loss: 7.6029 - acc: 0.5283\n",
      "Epoch 14/100\n",
      "53/53 [==============================] - 0s 188us/step - loss: 7.6029 - acc: 0.5283\n",
      "Epoch 15/100\n",
      "53/53 [==============================] - 0s 245us/step - loss: 7.6029 - acc: 0.5283\n",
      "Epoch 16/100\n",
      "53/53 [==============================] - 0s 245us/step - loss: 7.6029 - acc: 0.5283\n",
      "Epoch 17/100\n",
      "53/53 [==============================] - 0s 226us/step - loss: 7.6029 - acc: 0.5283\n",
      "Epoch 18/100\n",
      "53/53 [==============================] - 0s 207us/step - loss: 7.6029 - acc: 0.5283\n",
      "Epoch 19/100\n",
      "53/53 [==============================] - 0s 207us/step - loss: 7.6029 - acc: 0.5283\n",
      "Epoch 20/100\n",
      "53/53 [==============================] - 0s 207us/step - loss: 7.6029 - acc: 0.5283\n",
      "Epoch 21/100\n",
      "53/53 [==============================] - 0s 245us/step - loss: 7.6029 - acc: 0.5283\n",
      "Epoch 22/100\n",
      "53/53 [==============================] - 0s 207us/step - loss: 7.6029 - acc: 0.5283\n",
      "Epoch 23/100\n",
      "53/53 [==============================] - 0s 226us/step - loss: 7.6029 - acc: 0.5283\n",
      "Epoch 24/100\n",
      "53/53 [==============================] - 0s 207us/step - loss: 7.6029 - acc: 0.5283\n",
      "Epoch 25/100\n",
      "53/53 [==============================] - 0s 207us/step - loss: 7.6029 - acc: 0.5283\n",
      "Epoch 26/100\n",
      "53/53 [==============================] - 0s 207us/step - loss: 7.6029 - acc: 0.5283\n",
      "Epoch 27/100\n",
      "53/53 [==============================] - 0s 207us/step - loss: 7.6029 - acc: 0.5283\n",
      "Epoch 28/100\n",
      "53/53 [==============================] - 0s 245us/step - loss: 7.6029 - acc: 0.5283\n",
      "Epoch 29/100\n",
      "53/53 [==============================] - 0s 226us/step - loss: 7.6029 - acc: 0.5283\n",
      "Epoch 30/100\n",
      "53/53 [==============================] - 0s 188us/step - loss: 7.6029 - acc: 0.5283\n",
      "Epoch 31/100\n",
      "53/53 [==============================] - 0s 207us/step - loss: 7.6029 - acc: 0.5283\n",
      "Epoch 32/100\n",
      "53/53 [==============================] - 0s 226us/step - loss: 7.6029 - acc: 0.5283\n",
      "Epoch 33/100\n",
      "53/53 [==============================] - 0s 301us/step - loss: 7.6029 - acc: 0.5283\n",
      "Epoch 34/100\n",
      "53/53 [==============================] - 0s 226us/step - loss: 7.6029 - acc: 0.5283\n",
      "Epoch 35/100\n",
      "53/53 [==============================] - 0s 188us/step - loss: 7.6029 - acc: 0.5283\n",
      "Epoch 36/100\n",
      "53/53 [==============================] - 0s 226us/step - loss: 7.6029 - acc: 0.5283\n",
      "Epoch 37/100\n",
      "53/53 [==============================] - 0s 226us/step - loss: 7.6029 - acc: 0.5283\n",
      "Epoch 38/100\n",
      "53/53 [==============================] - 0s 245us/step - loss: 7.6029 - acc: 0.5283\n",
      "Epoch 39/100\n",
      "53/53 [==============================] - 0s 207us/step - loss: 7.6029 - acc: 0.5283\n",
      "Epoch 40/100\n",
      "53/53 [==============================] - 0s 226us/step - loss: 7.6029 - acc: 0.5283\n",
      "Epoch 41/100\n",
      "53/53 [==============================] - 0s 207us/step - loss: 7.6029 - acc: 0.5283\n",
      "Epoch 42/100\n",
      "53/53 [==============================] - 0s 245us/step - loss: 7.6029 - acc: 0.5283\n",
      "Epoch 43/100\n",
      "53/53 [==============================] - 0s 207us/step - loss: 7.6029 - acc: 0.5283\n",
      "Epoch 44/100\n",
      "53/53 [==============================] - 0s 188us/step - loss: 7.6029 - acc: 0.5283\n",
      "Epoch 45/100\n",
      "53/53 [==============================] - 0s 226us/step - loss: 7.6029 - acc: 0.5283\n",
      "Epoch 46/100\n",
      "53/53 [==============================] - 0s 226us/step - loss: 7.6029 - acc: 0.5283\n",
      "Epoch 47/100\n",
      "53/53 [==============================] - 0s 226us/step - loss: 7.6029 - acc: 0.5283\n",
      "Epoch 48/100\n",
      "53/53 [==============================] - 0s 207us/step - loss: 7.6029 - acc: 0.5283\n",
      "Epoch 49/100\n",
      "53/53 [==============================] - 0s 226us/step - loss: 7.6029 - acc: 0.5283\n",
      "Epoch 50/100\n",
      "53/53 [==============================] - 0s 226us/step - loss: 7.6029 - acc: 0.5283\n",
      "Epoch 51/100\n",
      "53/53 [==============================] - 0s 226us/step - loss: 7.6029 - acc: 0.5283\n",
      "Epoch 52/100\n",
      "53/53 [==============================] - 0s 169us/step - loss: 7.6029 - acc: 0.5283\n",
      "Epoch 53/100\n",
      "53/53 [==============================] - 0s 226us/step - loss: 7.6029 - acc: 0.5283\n",
      "Epoch 54/100\n",
      "53/53 [==============================] - 0s 245us/step - loss: 7.6029 - acc: 0.5283\n",
      "Epoch 55/100\n",
      "53/53 [==============================] - 0s 207us/step - loss: 7.6029 - acc: 0.5283\n",
      "Epoch 56/100\n",
      "53/53 [==============================] - 0s 207us/step - loss: 7.6029 - acc: 0.5283\n",
      "Epoch 57/100\n",
      "53/53 [==============================] - 0s 263us/step - loss: 7.6029 - acc: 0.5283\n",
      "Epoch 58/100\n",
      "53/53 [==============================] - 0s 527us/step - loss: 7.6029 - acc: 0.5283\n",
      "Epoch 59/100\n",
      "53/53 [==============================] - 0s 245us/step - loss: 7.6029 - acc: 0.5283\n",
      "Epoch 60/100\n",
      "53/53 [==============================] - 0s 282us/step - loss: 7.6029 - acc: 0.5283\n",
      "Epoch 61/100\n",
      "53/53 [==============================] - 0s 226us/step - loss: 7.6029 - acc: 0.5283\n",
      "Epoch 62/100\n",
      "53/53 [==============================] - 0s 207us/step - loss: 7.6029 - acc: 0.5283\n",
      "Epoch 63/100\n",
      "53/53 [==============================] - 0s 226us/step - loss: 7.6029 - acc: 0.5283\n",
      "Epoch 64/100\n",
      "53/53 [==============================] - 0s 207us/step - loss: 7.6029 - acc: 0.5283\n",
      "Epoch 65/100\n",
      "53/53 [==============================] - 0s 245us/step - loss: 7.6029 - acc: 0.5283\n",
      "Epoch 66/100\n",
      "53/53 [==============================] - 0s 245us/step - loss: 7.6029 - acc: 0.5283\n",
      "Epoch 67/100\n",
      "53/53 [==============================] - 0s 207us/step - loss: 7.6029 - acc: 0.5283\n",
      "Epoch 68/100\n",
      "53/53 [==============================] - 0s 207us/step - loss: 7.6029 - acc: 0.5283\n",
      "Epoch 69/100\n",
      "53/53 [==============================] - 0s 245us/step - loss: 7.6029 - acc: 0.5283\n",
      "Epoch 70/100\n",
      "53/53 [==============================] - 0s 226us/step - loss: 7.6029 - acc: 0.5283\n",
      "Epoch 71/100\n",
      "53/53 [==============================] - 0s 188us/step - loss: 7.6029 - acc: 0.5283\n",
      "Epoch 72/100\n",
      "53/53 [==============================] - 0s 188us/step - loss: 7.6029 - acc: 0.5283\n",
      "Epoch 73/100\n",
      "53/53 [==============================] - 0s 226us/step - loss: 7.6029 - acc: 0.5283\n",
      "Epoch 74/100\n",
      "53/53 [==============================] - 0s 226us/step - loss: 7.6029 - acc: 0.5283\n",
      "Epoch 75/100\n",
      "53/53 [==============================] - 0s 207us/step - loss: 7.6029 - acc: 0.5283\n",
      "Epoch 76/100\n",
      "53/53 [==============================] - 0s 207us/step - loss: 7.6029 - acc: 0.5283\n",
      "Epoch 77/100\n",
      "53/53 [==============================] - 0s 207us/step - loss: 7.6029 - acc: 0.5283\n",
      "Epoch 78/100\n",
      "53/53 [==============================] - 0s 245us/step - loss: 7.6029 - acc: 0.5283\n",
      "Epoch 79/100\n",
      "53/53 [==============================] - 0s 263us/step - loss: 7.6029 - acc: 0.5283\n",
      "Epoch 80/100\n",
      "53/53 [==============================] - 0s 226us/step - loss: 7.6029 - acc: 0.5283\n",
      "Epoch 81/100\n",
      "53/53 [==============================] - 0s 226us/step - loss: 7.6029 - acc: 0.5283\n",
      "Epoch 82/100\n",
      "53/53 [==============================] - 0s 207us/step - loss: 7.6029 - acc: 0.5283\n",
      "Epoch 83/100\n",
      "53/53 [==============================] - 0s 226us/step - loss: 7.6029 - acc: 0.5283\n",
      "Epoch 84/100\n",
      "53/53 [==============================] - 0s 245us/step - loss: 7.6029 - acc: 0.5283\n",
      "Epoch 85/100\n",
      "53/53 [==============================] - 0s 207us/step - loss: 7.6029 - acc: 0.5283\n",
      "Epoch 86/100\n",
      "53/53 [==============================] - 0s 207us/step - loss: 7.6029 - acc: 0.5283\n",
      "Epoch 87/100\n",
      "53/53 [==============================] - 0s 227us/step - loss: 7.6029 - acc: 0.5283\n",
      "Epoch 88/100\n",
      "53/53 [==============================] - 0s 226us/step - loss: 7.6029 - acc: 0.5283\n",
      "Epoch 89/100\n",
      "53/53 [==============================] - 0s 236us/step - loss: 7.6029 - acc: 0.5283\n",
      "Epoch 90/100\n",
      "53/53 [==============================] - 0s 188us/step - loss: 7.6029 - acc: 0.5283\n",
      "Epoch 91/100\n",
      "53/53 [==============================] - 0s 188us/step - loss: 7.6029 - acc: 0.5283\n",
      "Epoch 92/100\n",
      "53/53 [==============================] - 0s 245us/step - loss: 7.6029 - acc: 0.5283\n",
      "Epoch 93/100\n",
      "53/53 [==============================] - 0s 245us/step - loss: 7.6029 - acc: 0.5283\n",
      "Epoch 94/100\n",
      "53/53 [==============================] - 0s 207us/step - loss: 7.6029 - acc: 0.5283\n",
      "Epoch 95/100\n",
      "53/53 [==============================] - 0s 188us/step - loss: 7.6029 - acc: 0.5283\n",
      "Epoch 96/100\n",
      "53/53 [==============================] - 0s 226us/step - loss: 7.6029 - acc: 0.5283\n",
      "Epoch 97/100\n",
      "53/53 [==============================] - 0s 226us/step - loss: 7.6029 - acc: 0.5283\n",
      "Epoch 98/100\n",
      "53/53 [==============================] - 0s 207us/step - loss: 7.6029 - acc: 0.5283\n",
      "Epoch 99/100\n",
      "53/53 [==============================] - 0s 188us/step - loss: 7.6029 - acc: 0.5283\n",
      "Epoch 100/100\n",
      "53/53 [==============================] - 0s 246us/step - loss: 7.6029 - acc: 0.5283\n"
     ]
    },
    {
     "data": {
      "text/plain": [
       "<keras.callbacks.History at 0x12ee5ef9a58>"
      ]
     },
     "execution_count": 437,
     "metadata": {},
     "output_type": "execute_result"
    }
   ],
   "source": [
    "model = Sequential()\n",
    "model.add(Dense(128, input_dim=4, activation='relu'))\n",
    "model.add(Dense(64, activation='relu'))\n",
    "model.add(Dense(1, activation='sigmoid'))\n",
    "# compile the keras model\n",
    "model.compile(loss='binary_crossentropy', optimizer='adam', metrics=['accuracy'])\n",
    "# fit the keras model on the dataset\n",
    "model.fit(X_train, y_train, epochs=100, batch_size=10)"
   ]
  },
  {
   "cell_type": "code",
   "execution_count": 438,
   "metadata": {},
   "outputs": [
    {
     "name": "stdout",
     "output_type": "stream",
     "text": [
      "18/18 [==============================] - 0s 26ms/step\n",
      "Accuracy: 50.00\n"
     ]
    }
   ],
   "source": [
    "# evaluate the keras model\n",
    "_, accuracy = model.evaluate(X_test, y_test)\n",
    "print('Accuracy: %.2f' % (accuracy*100))"
   ]
  },
  {
   "cell_type": "code",
   "execution_count": 439,
   "metadata": {
    "scrolled": true
   },
   "outputs": [
    {
     "data": {
      "text/html": [
       "<div>\n",
       "<style scoped>\n",
       "    .dataframe tbody tr th:only-of-type {\n",
       "        vertical-align: middle;\n",
       "    }\n",
       "\n",
       "    .dataframe tbody tr th {\n",
       "        vertical-align: top;\n",
       "    }\n",
       "\n",
       "    .dataframe thead th {\n",
       "        text-align: right;\n",
       "    }\n",
       "</style>\n",
       "<table border=\"1\" class=\"dataframe\">\n",
       "  <thead>\n",
       "    <tr style=\"text-align: right;\">\n",
       "      <th></th>\n",
       "      <th>date_dif</th>\n",
       "      <th>Goal budget</th>\n",
       "      <th>Volume booked</th>\n",
       "      <th>Price</th>\n",
       "    </tr>\n",
       "  </thead>\n",
       "  <tbody>\n",
       "    <tr>\n",
       "      <th>55</th>\n",
       "      <td>32</td>\n",
       "      <td>15300.00</td>\n",
       "      <td>1390909.00</td>\n",
       "      <td>11.00</td>\n",
       "    </tr>\n",
       "    <tr>\n",
       "      <th>3</th>\n",
       "      <td>7</td>\n",
       "      <td>1322.09</td>\n",
       "      <td>165261.25</td>\n",
       "      <td>8.00</td>\n",
       "    </tr>\n",
       "    <tr>\n",
       "      <th>85</th>\n",
       "      <td>33</td>\n",
       "      <td>11000.00</td>\n",
       "      <td>1571429.00</td>\n",
       "      <td>7.00</td>\n",
       "    </tr>\n",
       "    <tr>\n",
       "      <th>17</th>\n",
       "      <td>17</td>\n",
       "      <td>20825.00</td>\n",
       "      <td>1735417.00</td>\n",
       "      <td>12.00</td>\n",
       "    </tr>\n",
       "    <tr>\n",
       "      <th>91</th>\n",
       "      <td>12</td>\n",
       "      <td>25000.00</td>\n",
       "      <td>2083334.00</td>\n",
       "      <td>12.00</td>\n",
       "    </tr>\n",
       "    <tr>\n",
       "      <th>49</th>\n",
       "      <td>25</td>\n",
       "      <td>35593.92</td>\n",
       "      <td>4000000.00</td>\n",
       "      <td>8.90</td>\n",
       "    </tr>\n",
       "    <tr>\n",
       "      <th>34</th>\n",
       "      <td>46</td>\n",
       "      <td>60018.93</td>\n",
       "      <td>3730879.00</td>\n",
       "      <td>16.09</td>\n",
       "    </tr>\n",
       "    <tr>\n",
       "      <th>67</th>\n",
       "      <td>36</td>\n",
       "      <td>8999.46</td>\n",
       "      <td>499969.00</td>\n",
       "      <td>18.00</td>\n",
       "    </tr>\n",
       "    <tr>\n",
       "      <th>82</th>\n",
       "      <td>62</td>\n",
       "      <td>40000.00</td>\n",
       "      <td>2500000.00</td>\n",
       "      <td>16.00</td>\n",
       "    </tr>\n",
       "    <tr>\n",
       "      <th>40</th>\n",
       "      <td>5</td>\n",
       "      <td>10000.00</td>\n",
       "      <td>833334.00</td>\n",
       "      <td>12.00</td>\n",
       "    </tr>\n",
       "    <tr>\n",
       "      <th>65</th>\n",
       "      <td>42</td>\n",
       "      <td>14729.79</td>\n",
       "      <td>1862964.00</td>\n",
       "      <td>7.91</td>\n",
       "    </tr>\n",
       "    <tr>\n",
       "      <th>28</th>\n",
       "      <td>109</td>\n",
       "      <td>46896.73</td>\n",
       "      <td>3908061.00</td>\n",
       "      <td>12.00</td>\n",
       "    </tr>\n",
       "    <tr>\n",
       "      <th>99</th>\n",
       "      <td>60</td>\n",
       "      <td>10000.00</td>\n",
       "      <td>1428571.00</td>\n",
       "      <td>7.00</td>\n",
       "    </tr>\n",
       "    <tr>\n",
       "      <th>18</th>\n",
       "      <td>20</td>\n",
       "      <td>19000.00</td>\n",
       "      <td>2375000.00</td>\n",
       "      <td>8.00</td>\n",
       "    </tr>\n",
       "    <tr>\n",
       "      <th>89</th>\n",
       "      <td>1</td>\n",
       "      <td>9950.70</td>\n",
       "      <td>1118247.00</td>\n",
       "      <td>8.90</td>\n",
       "    </tr>\n",
       "    <tr>\n",
       "      <th>64</th>\n",
       "      <td>30</td>\n",
       "      <td>126769.64</td>\n",
       "      <td>8876608.00</td>\n",
       "      <td>14.28</td>\n",
       "    </tr>\n",
       "    <tr>\n",
       "      <th>97</th>\n",
       "      <td>1</td>\n",
       "      <td>4500.00</td>\n",
       "      <td>642858.00</td>\n",
       "      <td>7.00</td>\n",
       "    </tr>\n",
       "    <tr>\n",
       "      <th>70</th>\n",
       "      <td>26</td>\n",
       "      <td>20000.00</td>\n",
       "      <td>10000000.00</td>\n",
       "      <td>2.00</td>\n",
       "    </tr>\n",
       "  </tbody>\n",
       "</table>\n",
       "</div>"
      ],
      "text/plain": [
       "    date_dif  Goal budget  Volume booked  Price\n",
       "55        32     15300.00     1390909.00  11.00\n",
       "3          7      1322.09      165261.25   8.00\n",
       "85        33     11000.00     1571429.00   7.00\n",
       "17        17     20825.00     1735417.00  12.00\n",
       "91        12     25000.00     2083334.00  12.00\n",
       "49        25     35593.92     4000000.00   8.90\n",
       "34        46     60018.93     3730879.00  16.09\n",
       "67        36      8999.46      499969.00  18.00\n",
       "82        62     40000.00     2500000.00  16.00\n",
       "40         5     10000.00      833334.00  12.00\n",
       "65        42     14729.79     1862964.00   7.91\n",
       "28       109     46896.73     3908061.00  12.00\n",
       "99        60     10000.00     1428571.00   7.00\n",
       "18        20     19000.00     2375000.00   8.00\n",
       "89         1      9950.70     1118247.00   8.90\n",
       "64        30    126769.64     8876608.00  14.28\n",
       "97         1      4500.00      642858.00   7.00\n",
       "70        26     20000.00    10000000.00   2.00"
      ]
     },
     "execution_count": 439,
     "metadata": {},
     "output_type": "execute_result"
    }
   ],
   "source": [
    "X_test"
   ]
  },
  {
   "cell_type": "markdown",
   "metadata": {},
   "source": [
    "# THIRD : XGBOOST"
   ]
  },
  {
   "cell_type": "code",
   "execution_count": 440,
   "metadata": {},
   "outputs": [],
   "source": [
    "D_train = xgb.DMatrix(X_train, label=y_train)\n",
    "D_test = xgb.DMatrix(X_test, label=y_test)\n",
    "\n",
    "param = {\n",
    "    'eta': 0.3, \n",
    "    'max_depth': 3,  \n",
    "    'objective': 'multi:softprob',  \n",
    "    'num_class': 3} \n",
    "\n",
    "steps = 20  # The number of training iterations\n",
    "\n",
    "clf = xgb.train(param, D_train, steps)"
   ]
  },
  {
   "cell_type": "code",
   "execution_count": 441,
   "metadata": {},
   "outputs": [
    {
     "name": "stdout",
     "output_type": "stream",
     "text": [
      "Precision = 0.6753246753246753\n",
      "Recall = 0.6666666666666667\n",
      "Accuracy = 0.6666666666666666\n"
     ]
    }
   ],
   "source": [
    "preds = clf.predict(D_test)\n",
    "best_preds = np.asarray([np.argmax(line) for line in preds])\n",
    "\n",
    "print(\"Precision = {}\".format(precision_score(y_test, best_preds, average='macro')))\n",
    "print(\"Recall = {}\".format(recall_score(y_test, best_preds, average='macro')))\n",
    "print(\"Accuracy = {}\".format(accuracy_score(y_test, best_preds)))"
   ]
  },
  {
   "cell_type": "markdown",
   "metadata": {},
   "source": [
    "# SIMPLE LOGISTIC REGRESSION"
   ]
  },
  {
   "cell_type": "code",
   "execution_count": 442,
   "metadata": {},
   "outputs": [
    {
     "name": "stderr",
     "output_type": "stream",
     "text": [
      "C:\\Users\\mateg\\Anaconda3\\lib\\site-packages\\sklearn\\linear_model\\logistic.py:432: FutureWarning: Default solver will be changed to 'lbfgs' in 0.22. Specify a solver to silence this warning.\n",
      "  FutureWarning)\n"
     ]
    }
   ],
   "source": [
    "clf = LogisticRegression(random_state=0).fit(X_train, y_train)"
   ]
  },
  {
   "cell_type": "code",
   "execution_count": 443,
   "metadata": {},
   "outputs": [
    {
     "data": {
      "text/plain": [
       "0.5"
      ]
     },
     "execution_count": 443,
     "metadata": {},
     "output_type": "execute_result"
    }
   ],
   "source": [
    "clf.score(X_test, y_test)"
   ]
  },
  {
   "cell_type": "code",
   "execution_count": 444,
   "metadata": {},
   "outputs": [
    {
     "data": {
      "text/plain": [
       "{'C': 1.0,\n",
       " 'class_weight': None,\n",
       " 'dual': False,\n",
       " 'fit_intercept': True,\n",
       " 'intercept_scaling': 1,\n",
       " 'l1_ratio': None,\n",
       " 'max_iter': 100,\n",
       " 'multi_class': 'warn',\n",
       " 'n_jobs': None,\n",
       " 'penalty': 'l2',\n",
       " 'random_state': 0,\n",
       " 'solver': 'warn',\n",
       " 'tol': 0.0001,\n",
       " 'verbose': 0,\n",
       " 'warm_start': False}"
      ]
     },
     "execution_count": 444,
     "metadata": {},
     "output_type": "execute_result"
    }
   ],
   "source": [
    "clf.get_params()"
   ]
  },
  {
   "cell_type": "code",
   "execution_count": 445,
   "metadata": {},
   "outputs": [
    {
     "data": {
      "text/plain": [
       "array([[-5.45154877e-03, -4.39907603e-06,  8.31442433e-08,\n",
       "        -7.61637647e-05]])"
      ]
     },
     "execution_count": 445,
     "metadata": {},
     "output_type": "execute_result"
    }
   ],
   "source": [
    "clf.coef_"
   ]
  },
  {
   "cell_type": "markdown",
   "metadata": {},
   "source": [
    "# ANOTHER IMPLEMENTATION OF XGBOOST"
   ]
  },
  {
   "cell_type": "code",
   "execution_count": 446,
   "metadata": {},
   "outputs": [
    {
     "name": "stdout",
     "output_type": "stream",
     "text": [
      "[0.32132128 0.2260345  0.25449052 0.1981537 ]\n"
     ]
    },
    {
     "data": {
      "image/png": "[encoded data removed]",
      "text/plain": [
       "<Figure size 432x288 with 1 Axes>"
      ]
     },
     "metadata": {
      "needs_background": "light"
     },
     "output_type": "display_data"
    }
   ],
   "source": [
    "# plot feature importance manually\n",
    "from numpy import loadtxt\n",
    "from xgboost import XGBClassifier\n",
    "from matplotlib import pyplot\n",
    "\n",
    "model = XGBClassifier()\n",
    "model.fit(X_train, y_train)\n",
    "# feature importance\n",
    "print(model.feature_importances_)\n",
    "# plot\n",
    "pyplot.bar(range(len(model.feature_importances_)), model.feature_importances_)\n",
    "pyplot.show()"
   ]
  },
  {
   "cell_type": "code",
   "execution_count": 449,
   "metadata": {},
   "outputs": [
    {
     "name": "stdout",
     "output_type": "stream",
     "text": [
      "Accuracy: 72.22%\n",
      "precision: 66.67%\n",
      "recall: 88.89%\n"
     ]
    }
   ],
   "source": [
    "y_pred = model.predict(X_test)\n",
    "predictions = [round(value) for value in y_pred]\n",
    "# evaluate predictions\n",
    "accuracy = accuracy_score(y_test, predictions)\n",
    "precision = precision_score(y_test, predictions)\n",
    "recall = recall_score(y_test, predictions)\n",
    "print(\"Accuracy: %.2f%%\" % (accuracy * 100.0))\n",
    "print(\"precision: %.2f%%\" % (precision * 100.0))\n",
    "print(\"recall: %.2f%%\" % (recall * 100.0))"
   ]
  },
  {
   "cell_type": "markdown",
   "metadata": {},
   "source": [
    "# SVM"
   ]
  },
  {
   "cell_type": "code",
   "execution_count": 448,
   "metadata": {},
   "outputs": [
    {
     "name": "stdout",
     "output_type": "stream",
     "text": [
      "Accuracy: 55.56%\n"
     ]
    },
    {
     "name": "stderr",
     "output_type": "stream",
     "text": [
      "C:\\Users\\mateg\\Anaconda3\\lib\\site-packages\\sklearn\\svm\\base.py:193: FutureWarning: The default value of gamma will change from 'auto' to 'scale' in version 0.22 to account better for unscaled features. Set gamma explicitly to 'auto' or 'scale' to avoid this warning.\n",
      "  \"avoid this warning.\", FutureWarning)\n"
     ]
    }
   ],
   "source": [
    "from sklearn import svm\n",
    "clf = svm.SVC()\n",
    "clf.fit(X_train, y_train)\n",
    "y_pred = clf.predict(X_test)\n",
    "predictions = [round(value) for value in y_pred]\n",
    "# evaluate predictions\n",
    "accuracy = accuracy_score(y_test, predictions)\n",
    "print(\"Accuracy: %.2f%%\" % (accuracy * 100.0))"
   ]
  },
  {
   "cell_type": "code",
   "execution_count": null,
   "metadata": {},
   "outputs": [],
   "source": []
  }
 ],
 "metadata": {
  "kernelspec": {
   "display_name": "Python 3",
   "language": "python",
   "name": "python3"
  },
  "language_info": {
   "codemirror_mode": {
    "name": "ipython",
    "version": 3
   },
   "file_extension": ".py",
   "mimetype": "text/x-python",
   "name": "python",
   "nbconvert_exporter": "python",
   "pygments_lexer": "ipython3",
   "version": "3.7.4"
  }
 },
 "nbformat": 4,
 "nbformat_minor": 2
}
